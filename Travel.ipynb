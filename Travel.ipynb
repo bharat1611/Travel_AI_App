{
  "cells": [
    {
      "cell_type": "code",
      "execution_count": 89,
      "metadata": {
        "id": "eXUaMCF5dAuR"
      },
      "outputs": [],
      "source": [
        "import pandas as pd\n",
        "from sklearn.feature_extraction.text import TfidfVectorizer\n",
        "from sklearn.metrics.pairwise import linear_kernel\n",
        "import numpy as np\n",
        "import ast"
      ]
    },
    {
      "cell_type": "code",
      "execution_count": 90,
      "metadata": {
        "id": "hTqA4Pand7cm"
      },
      "outputs": [],
      "source": [
        "df = pd.read_csv(\"OyoUKFinalwithCity.csv\")"
      ]
    },
    {
      "cell_type": "code",
      "execution_count": 91,
      "metadata": {
        "id": "LCx4wxsrebr1",
        "colab": {
          "base_uri": "https://localhost:8080/",
          "height": 187
        },
        "outputId": "816d49c5-c92c-4e41-df79-5957eb447201"
      },
      "outputs": [
        {
          "output_type": "execute_result",
          "data": {
            "text/plain": [
              "<bound method NDFrame.head of                           single-href  \\\n",
              "0     https://www.oyorooms.com/87452/   \n",
              "1    https://www.oyorooms.com/210121/   \n",
              "2     https://www.oyorooms.com/74854/   \n",
              "3     https://www.oyorooms.com/88080/   \n",
              "4      https://www.oyorooms.com/2498/   \n",
              "..                                ...   \n",
              "371  https://www.oyorooms.com/170754/   \n",
              "372  https://www.oyorooms.com/211999/   \n",
              "373  https://www.oyorooms.com/205747/   \n",
              "374  https://www.oyorooms.com/215369/   \n",
              "375  https://www.oyorooms.com/210680/   \n",
              "\n",
              "                                             Title      Price  Dicount  \\\n",
              "0                   SPOT ON The Greenwoods Retreat   ₹ 454.00  76% off   \n",
              "1               OYO Flagship Hotel Vishal Paradise   ₹ 499.00  77% off   \n",
              "2                            SPOT ON Kailash Hotel   ₹ 446.00  75% off   \n",
              "3                          SPOT ON Sneha Home Stay   ₹ 508.00  76% off   \n",
              "4    Super OYO Collection O Hotel Central Park Inn   ₹ 672.00  76% off   \n",
              "..                                             ...        ...      ...   \n",
              "371                        Capital O Tourist Homes   ₹ 759.00  86% off   \n",
              "372             OYO Flagship The Green Park Shimla   ₹ 764.00  85% off   \n",
              "373                         Flagship Hotel Apasara  ₹ 1137.00  74% off   \n",
              "374                   OYO Flagship Kanwar Homestay  ₹ 1492.00  75% off   \n",
              "375                OYO HOME 81250D Abhiaak Regency  ₹ 1689.00  78% off   \n",
              "\n",
              "                                           Description  \\\n",
              "0    Did you know that we’ve got 2.5 Crore bookings...   \n",
              "1                                                  NaN   \n",
              "2                                                  NaN   \n",
              "3    Did you know that we’ve got 2.5 Crore bookings...   \n",
              "4    Did you know that we’ve got 2.5 Crore bookings...   \n",
              "..                                                 ...   \n",
              "371  Capital O 86079 Tourist homes is a high-end ho...   \n",
              "372                                                NaN   \n",
              "373                                                NaN   \n",
              "374                                                NaN   \n",
              "375                                                NaN   \n",
              "\n",
              "                                                  Html  Rating      City  \\\n",
              "0    <div class=\"c-riklip striked\" itemprop=\"amenit...     4.7  Dehradun   \n",
              "1    <div class=\"c-riklip\" itemprop=\"amenityFeature...     3.4  Dehradun   \n",
              "2    <div class=\"c-riklip\" itemprop=\"amenityFeature...     5.0  Dehradun   \n",
              "3    <div class=\"c-riklip striked\" itemprop=\"amenit...     3.5  Dehradun   \n",
              "4    <div class=\"c-riklip striked\" itemprop=\"amenit...     3.8  Dehradun   \n",
              "..                                                 ...     ...       ...   \n",
              "371  <div class=\"c-riklip striked\" itemprop=\"amenit...     2.7    Shimla   \n",
              "372  <div class=\"c-riklip\" itemprop=\"amenityFeature...     3.0    Shimla   \n",
              "373  <div class=\"c-riklip\" itemprop=\"amenityFeature...     3.4    Shimla   \n",
              "374  <div class=\"c-riklip\" itemprop=\"amenityFeature...     NaN    Shimla   \n",
              "375  <div class=\"c-riklip striked\" itemprop=\"amenit...     4.5    Shimla   \n",
              "\n",
              "                                             Amenities  \n",
              "0    AC, TV, Free Parking, Daily House Keeping, Att...  \n",
              "1               AC, Free Wifi, TV, daily House Keeping  \n",
              "2                                    Free Wifi, AC, TV  \n",
              "3                                    AC, TV, Free WIfi  \n",
              "4                                    TV, AC, Free Wifi  \n",
              "..                                                 ...  \n",
              "371                                                NaN  \n",
              "372                                                NaN  \n",
              "373                                                NaN  \n",
              "374                                                NaN  \n",
              "375                                                NaN  \n",
              "\n",
              "[376 rows x 9 columns]>"
            ],
            "text/html": [
              "<div style=\"max-width:800px; border: 1px solid var(--colab-border-color);\"><style>\n",
              "      pre.function-repr-contents {\n",
              "        overflow-x: auto;\n",
              "        padding: 8px 12px;\n",
              "        max-height: 500px;\n",
              "      }\n",
              "\n",
              "      pre.function-repr-contents.function-repr-contents-collapsed {\n",
              "        cursor: pointer;\n",
              "        max-height: 100px;\n",
              "      }\n",
              "    </style>\n",
              "    <pre style=\"white-space: initial; background:\n",
              "         var(--colab-secondary-surface-color); padding: 8px 12px;\n",
              "         border-bottom: 1px solid var(--colab-border-color);\"><b>pandas.core.generic.NDFrame.head</b><br/>def head(n: int=5) -&gt; NDFrameT</pre><pre class=\"function-repr-contents function-repr-contents-collapsed\" style=\"\"><a class=\"filepath\" style=\"display:none\" href=\"#\">/usr/local/lib/python3.10/dist-packages/pandas/core/generic.py</a>Return the first `n` rows.\n",
              "\n",
              "This function returns the first `n` rows for the object based\n",
              "on position. It is useful for quickly testing if your object\n",
              "has the right type of data in it.\n",
              "\n",
              "For negative values of `n`, this function returns all rows except\n",
              "the last `|n|` rows, equivalent to ``df[:n]``.\n",
              "\n",
              "If n is larger than the number of rows, this function returns all rows.\n",
              "\n",
              "Parameters\n",
              "----------\n",
              "n : int, default 5\n",
              "    Number of rows to select.\n",
              "\n",
              "Returns\n",
              "-------\n",
              "same type as caller\n",
              "    The first `n` rows of the caller object.\n",
              "\n",
              "See Also\n",
              "--------\n",
              "DataFrame.tail: Returns the last `n` rows.\n",
              "\n",
              "Examples\n",
              "--------\n",
              "&gt;&gt;&gt; df = pd.DataFrame({&#x27;animal&#x27;: [&#x27;alligator&#x27;, &#x27;bee&#x27;, &#x27;falcon&#x27;, &#x27;lion&#x27;,\n",
              "...                    &#x27;monkey&#x27;, &#x27;parrot&#x27;, &#x27;shark&#x27;, &#x27;whale&#x27;, &#x27;zebra&#x27;]})\n",
              "&gt;&gt;&gt; df\n",
              "      animal\n",
              "0  alligator\n",
              "1        bee\n",
              "2     falcon\n",
              "3       lion\n",
              "4     monkey\n",
              "5     parrot\n",
              "6      shark\n",
              "7      whale\n",
              "8      zebra\n",
              "\n",
              "Viewing the first 5 lines\n",
              "\n",
              "&gt;&gt;&gt; df.head()\n",
              "      animal\n",
              "0  alligator\n",
              "1        bee\n",
              "2     falcon\n",
              "3       lion\n",
              "4     monkey\n",
              "\n",
              "Viewing the first `n` lines (three in this case)\n",
              "\n",
              "&gt;&gt;&gt; df.head(3)\n",
              "      animal\n",
              "0  alligator\n",
              "1        bee\n",
              "2     falcon\n",
              "\n",
              "For negative values of `n`\n",
              "\n",
              "&gt;&gt;&gt; df.head(-3)\n",
              "      animal\n",
              "0  alligator\n",
              "1        bee\n",
              "2     falcon\n",
              "3       lion\n",
              "4     monkey\n",
              "5     parrot</pre>\n",
              "      <script>\n",
              "      if (google.colab.kernel.accessAllowed && google.colab.files && google.colab.files.view) {\n",
              "        for (const element of document.querySelectorAll('.filepath')) {\n",
              "          element.style.display = 'block'\n",
              "          element.onclick = (event) => {\n",
              "            event.preventDefault();\n",
              "            event.stopPropagation();\n",
              "            google.colab.files.view(element.textContent, 5474);\n",
              "          };\n",
              "        }\n",
              "      }\n",
              "      for (const element of document.querySelectorAll('.function-repr-contents')) {\n",
              "        element.onclick = (event) => {\n",
              "          event.preventDefault();\n",
              "          event.stopPropagation();\n",
              "          element.classList.toggle('function-repr-contents-collapsed');\n",
              "        };\n",
              "      }\n",
              "      </script>\n",
              "      </div>"
            ]
          },
          "metadata": {},
          "execution_count": 91
        }
      ],
      "source": [
        "df.head"
      ]
    },
    {
      "cell_type": "code",
      "execution_count": 92,
      "metadata": {
        "id": "Y31KEb1ignar",
        "colab": {
          "base_uri": "https://localhost:8080/"
        },
        "outputId": "5edb310f-1eb1-49e4-f7f6-671faf65664e"
      },
      "outputs": [
        {
          "output_type": "execute_result",
          "data": {
            "text/plain": [
              "single-href     object\n",
              "Title           object\n",
              "Price           object\n",
              "Dicount         object\n",
              "Description     object\n",
              "Html            object\n",
              "Rating         float64\n",
              "City            object\n",
              "Amenities       object\n",
              "dtype: object"
            ]
          },
          "metadata": {},
          "execution_count": 92
        }
      ],
      "source": [
        "df.dtypes"
      ]
    },
    {
      "cell_type": "code",
      "execution_count": 93,
      "metadata": {
        "id": "eaAz5Ppsgo9W",
        "colab": {
          "base_uri": "https://localhost:8080/"
        },
        "outputId": "c0abb63e-c31a-4bd0-9e86-65f9eec8d0fb"
      },
      "outputs": [
        {
          "output_type": "stream",
          "name": "stdout",
          "text": [
            "Index(['single-href', 'Title', 'Price', 'Dicount', 'Description', 'Html',\n",
            "       'Rating', 'City', 'Amenities'],\n",
            "      dtype='object')\n"
          ]
        }
      ],
      "source": [
        "print(df.columns)"
      ]
    },
    {
      "cell_type": "code",
      "execution_count": 94,
      "metadata": {
        "id": "aI5bIZnCgsKK"
      },
      "outputs": [],
      "source": [
        "df['tags'] = df['Title'] + ' ' + df['Price'] + ' ' + df['Dicount']+ ' ' + df['City'] + ' ' + df['Amenities']"
      ]
    },
    {
      "cell_type": "code",
      "execution_count": 95,
      "metadata": {
        "id": "tlWGHKHThpUH"
      },
      "outputs": [],
      "source": [
        "# Testing Phase\n",
        "# Sample purchase history data (item, color)\n",
        "# Hotel Name and Location\n",
        "# Contenst Based Filtering\n",
        "purchase_history = [\n",
        "    (\"OYO Flagship Hotel Queens Pearl Inn\", \"Dehradun\"),\n",
        "    (\"OYO Hotel Palazzo\", \"Mussoorie\"),\n",
        "    (\"OYO Flagship Hotel Queens Pearl Inn\", \"Dehradun\"),\n",
        "    (\"OYO Home Naini Homes\", \"Nanital\"),\n",
        "    (\"OYO Flagship Hotel Kashi\", \"Haridwar\"),\n",
        "    (\"OYO Flagship Hotel Kashi\", \"Haridwar\"),\n",
        "    (\"OYO Ganga View (Harry Stay)\", \"Rishikesh\"),\n",
        "    (\"Collection O Garden Reach\", \"Kempty Falls\"),\n",
        "    (\"OYO Home Naini Homes\", \"Nanital\"),\n",
        "    # ... other purchase history items\n",
        "]\n",
        "purchase_keywords = [item.lower() for item, _ in purchase_history]"
      ]
    },
    {
      "cell_type": "code",
      "execution_count": 96,
      "metadata": {
        "id": "0WzFM6NBjXxP"
      },
      "outputs": [],
      "source": [
        "# Testing Phase\n",
        "def matches_keywords(title):\n",
        "    lower_title = title.lower()\n",
        "    return any(keyword in lower_title for keyword in purchase_keywords)"
      ]
    },
    {
      "cell_type": "code",
      "execution_count": 97,
      "metadata": {
        "id": "g1L9d-PGjaZM"
      },
      "outputs": [],
      "source": [
        "# Filter products based on matching keywords\n",
        "filtered_products = df[df['Title'].apply(matches_keywords)]\n"
      ]
    },
    {
      "cell_type": "code",
      "execution_count": 98,
      "metadata": {
        "id": "facVLirujgJg"
      },
      "outputs": [],
      "source": [
        "import nltk\n",
        "from nltk.stem import WordNetLemmatizer\n",
        "from nltk.stem import PorterStemmer\n",
        "from nltk.tokenize import word_tokenize\n",
        "from nltk.corpus import stopwords\n",
        "from nltk.stem.wordnet import WordNetLemmatizer\n",
        "from nltk.corpus import wordnet\n"
      ]
    },
    {
      "cell_type": "code",
      "execution_count": 99,
      "metadata": {
        "colab": {
          "base_uri": "https://localhost:8080/"
        },
        "id": "8zGr6Sp2kSmS",
        "outputId": "0ddfa42c-509d-4b62-e4a4-ba9874da3f88"
      },
      "outputs": [
        {
          "output_type": "stream",
          "name": "stderr",
          "text": [
            "[nltk_data] Downloading package punkt to /root/nltk_data...\n",
            "[nltk_data]   Package punkt is already up-to-date!\n",
            "[nltk_data] Downloading package wordnet to /root/nltk_data...\n",
            "[nltk_data]   Package wordnet is already up-to-date!\n",
            "[nltk_data] Downloading package omw-1.4 to /root/nltk_data...\n",
            "[nltk_data]   Package omw-1.4 is already up-to-date!\n"
          ]
        },
        {
          "output_type": "execute_result",
          "data": {
            "text/plain": [
              "True"
            ]
          },
          "metadata": {},
          "execution_count": 99
        }
      ],
      "source": [
        "nltk.download('punkt')\n",
        "nltk.download('wordnet')\n",
        "nltk.download('omw-1.4')"
      ]
    },
    {
      "cell_type": "code",
      "execution_count": 100,
      "metadata": {
        "id": "W4gSlFRMjitt"
      },
      "outputs": [],
      "source": [
        "lemmatizer = WordNetLemmatizer()\n",
        "stemmer = PorterStemmer()"
      ]
    },
    {
      "cell_type": "code",
      "execution_count": 101,
      "metadata": {
        "id": "xei9DB5Qjohk"
      },
      "outputs": [],
      "source": [
        "def preprocess(text):\n",
        "    text = str(text)\n",
        "    tokens = word_tokenize(text.lower())\n",
        "    lemmatized_tokens = [lemmatizer.lemmatize(token) for token in tokens]\n",
        "    stemmed_tokens = [stemmer.stem(token) for token in lemmatized_tokens]\n",
        "    return ' '.join(stemmed_tokens)"
      ]
    },
    {
      "cell_type": "code",
      "execution_count": 105,
      "metadata": {
        "id": "eZT0gjJEjqVI"
      },
      "outputs": [],
      "source": [
        "def func(user_input):\n",
        "  c=1\n",
        "  df['new_tags'] = df['tags'].apply(preprocess)\n",
        "  preprocessed_input = preprocess(user_input)\n",
        "  keywords = preprocessed_input.split()\n",
        "  df['Relevance'] = df['new_tags'].apply(lambda text: sum(keyword in text for keyword in keywords))\n",
        "  filtered = df[df['Relevance'] > 0]\n",
        "\n",
        "  flag=0\n",
        "  sorted_recommendations = filtered.sort_values(by='Relevance', ascending=False)\n",
        "  top_5_recommendations = sorted_recommendations.head(5)\n",
        "  if not top_5_recommendations.empty:\n",
        "      print(\"Top 5 recommendations are\\n\")\n",
        "      for index, row in top_5_recommendations.iterrows():\n",
        "          print(f\"Title: {row['tags']}\")\n",
        "          if(flag==0):\n",
        "            flag=1\n",
        "            prompt=row['tags']\n",
        "          print(f\"Link: {row['single-href']}\")\n",
        "        #  print(f\"Discount: {row['Discount']}\")\n",
        "          print()\n",
        "  else:\n",
        "      print(\"\\nNo matching listings found.\")\n",
        "  print(\"\\nBased on your past purchases!!\")\n",
        "  for i, row in filtered_products.iterrows():\n",
        "    if(c<=5):\n",
        "      print()\n",
        "      print(f\"Title: {row['Title']}\")\n",
        "      print(f\"Link: {row['single-href']}\")\n",
        "     # print(f\"Discount: {row['Discount']}\")\n",
        "      c=c+1\n",
        "    else :\n",
        "      break\n",
        "\n",
        "\n",
        "  # prompt=prompt.replace('(', '')\n",
        "  # prompt=prompt.replace(')', '')"
      ]
    },
    {
      "cell_type": "code",
      "execution_count": 109,
      "metadata": {
        "colab": {
          "base_uri": "https://localhost:8080/"
        },
        "id": "AqhqawxXjv6Z",
        "outputId": "56619ccc-598d-4341-86b5-63a72acd7ede"
      },
      "outputs": [
        {
          "name": "stdout",
          "output_type": "stream",
          "text": [
            "\n",
            "Enter your preference: plan me a day out in delhi for \n"
          ]
        }
      ],
      "source": [
        "user_input = input(\"\\nEnter your preference: \")\n",
        "if \"day out\", \"\" not in user_input:\n",
        "  print(\"Our Options are\\n\")\n",
        "  func(user_input)\n",
        "else:\n",
        "  pass\n"
      ]
    },
    {
      "cell_type": "markdown",
      "source": [],
      "metadata": {
        "id": "OsX4bPG-sgJq"
      }
    },
    {
      "cell_type": "code",
      "source": [],
      "metadata": {
        "id": "mnCFJhLesATf"
      },
      "execution_count": null,
      "outputs": []
    }
  ],
  "metadata": {
    "colab": {
      "provenance": [],
      "gpuType": "T4"
    },
    "kernelspec": {
      "display_name": "Python 3",
      "name": "python3"
    },
    "language_info": {
      "codemirror_mode": {
        "name": "ipython",
        "version": 3
      },
      "file_extension": ".py",
      "mimetype": "text/x-python",
      "name": "python",
      "nbconvert_exporter": "python",
      "pygments_lexer": "ipython3",
      "version": "3.11.7"
    },
    "accelerator": "GPU"
  },
  "nbformat": 4,
  "nbformat_minor": 0
}